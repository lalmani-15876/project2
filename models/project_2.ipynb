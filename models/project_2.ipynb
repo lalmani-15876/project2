{
  "cells": [
    {
      "cell_type": "code",
      "execution_count": 1,
      "metadata": {
        "id": "M2AEfyd9MVS6"
      },
      "outputs": [
        {
          "name": "stderr",
          "output_type": "stream",
          "text": [
            "c:\\Users\\pawan_kumar4\\Desktop\\project2\\.venv\\Lib\\site-packages\\tqdm\\auto.py:21: TqdmWarning: IProgress not found. Please update jupyter and ipywidgets. See https://ipywidgets.readthedocs.io/en/stable/user_install.html\n",
            "  from .autonotebook import tqdm as notebook_tqdm\n"
          ]
        }
      ],
      "source": [
        "import pandas as pd\n",
        "import numpy as np\n",
        "from sklearn.model_selection import train_test_split, cross_val_score\n",
        "from sklearn.ensemble import RandomForestClassifier\n",
        "from sklearn.tree import DecisionTreeClassifier\n",
        "from xgboost import XGBClassifier\n",
        "from sklearn.metrics import accuracy_score, confusion_matrix, classification_report\n",
        "from sklearn.preprocessing import LabelEncoder\n",
        "import matplotlib.pyplot as plt\n",
        "import seaborn as sns\n",
        "from joblib import load, dump\n",
        "import shap\n",
        "import time, psutil\n",
        "import warnings\n",
        "warnings.filterwarnings(\"ignore\")"
      ]
    },
    {
      "cell_type": "code",
      "execution_count": 2,
      "metadata": {
        "id": "Pdlc37PhMug1"
      },
      "outputs": [],
      "source": [
        "df = pd.read_csv(\"../datasets/Training.csv\")"
      ]
    },
    {
      "cell_type": "code",
      "execution_count": 3,
      "metadata": {
        "id": "ISVO6j2V4We1"
      },
      "outputs": [],
      "source": [
        "# Select sensor features\n",
        "sensor_features = [\n",
        "    'Accelerometer_X', 'Accelerometer_Y', 'Accelerometer_Z',\n",
        "    'Gyroscope_X', 'Gyroscope_Y', 'Gyroscope_Z',\n",
        "    'Magnetometer_X', 'Magnetometer_Y', 'Magnetometer_Z',\n",
        "    'GPS_Speed',\n",
        "    'Sound Level', 'Activity'\n",
        "]"
      ]
    },
    {
      "cell_type": "code",
      "execution_count": 4,
      "metadata": {
        "id": "Up_4Z6Zd4VqX"
      },
      "outputs": [],
      "source": [
        "df = df[sensor_features]"
      ]
    },
    {
      "cell_type": "code",
      "execution_count": null,
      "metadata": {
        "colab": {
          "base_uri": "https://localhost:8080/",
          "height": 243
        },
        "id": "tsECYu18NVIQ",
        "outputId": "80d7e478-3b23-499b-d3a1-e7540226ca34"
      },
      "outputs": [],
      "source": [
        "df.head()"
      ]
    },
    {
      "cell_type": "code",
      "execution_count": null,
      "metadata": {
        "colab": {
          "base_uri": "https://localhost:8080/",
          "height": 320
        },
        "id": "6XSa4weo4ekk",
        "outputId": "5b3f0d27-53c8-47b1-f126-4083ca701d1d"
      },
      "outputs": [],
      "source": [
        "df.describe()"
      ]
    },
    {
      "cell_type": "code",
      "execution_count": 6,
      "metadata": {
        "colab": {
          "base_uri": "https://localhost:8080/",
          "height": 466
        },
        "id": "Ky3D3ANDgzNX",
        "outputId": "168962c4-03b4-4717-e079-99c4b47340ba"
      },
      "outputs": [
        {
          "data": {
            "text/plain": [
              "Activity\n",
              "Bike        59665\n",
              "Train       52801\n",
              "Auto        52548\n",
              "Metro       49722\n",
              "Bus         45909\n",
              "Car         30659\n",
              "Standing    28037\n",
              "Walking     25824\n",
              "Name: count, dtype: int64"
            ]
          },
          "execution_count": 6,
          "metadata": {},
          "output_type": "execute_result"
        }
      ],
      "source": [
        "df.value_counts('Activity')"
      ]
    },
    {
      "cell_type": "code",
      "execution_count": 5,
      "metadata": {
        "id": "KuDwV0Vt2wQr"
      },
      "outputs": [],
      "source": [
        "def extract_features(df, window_size=120, step_size=30):\n",
        "    label_col = 'Activity'\n",
        "    sensor_cols = [col for col in df.columns if col != label_col]\n",
        "\n",
        "    features = []\n",
        "    for start_idx in range(0, len(df) - window_size + 1, step_size):\n",
        "        window = df.iloc[start_idx : start_idx + window_size]\n",
        "        window_feats = {}\n",
        "\n",
        "        # Calculate stats for each sensor column\n",
        "        for col in sensor_cols:\n",
        "            data = window[col].values\n",
        "            window_feats.update({\n",
        "                f\"{col}_mean\": np.mean(data),\n",
        "                f\"{col}_std\": np.std(data),\n",
        "                f\"{col}_max\": np.max(data),\n",
        "                f\"{col}_min\": np.min(data),\n",
        "                f\"{col}_median\": np.median(data),\n",
        "                f\"{col}_rms\" : np.sqrt(np.mean(data**2)),\n",
        "                f\"{col}_range\": np.max(data) - np.min(data),\n",
        "                f\"{col}_iqr\": np.percentile(data, 75) - np.percentile(data, 25),\n",
        "            })\n",
        "        window_feats[label_col] = window[label_col].iloc[-1]\n",
        "        features.append(window_feats)\n",
        "\n",
        "    return pd.DataFrame(features)\n"
      ]
    },
    {
      "cell_type": "code",
      "execution_count": 6,
      "metadata": {
        "id": "dTUjprm_3tqX"
      },
      "outputs": [],
      "source": [
        "agg_df = extract_features(df)"
      ]
    },
    {
      "cell_type": "code",
      "execution_count": null,
      "metadata": {
        "colab": {
          "base_uri": "https://localhost:8080/",
          "height": 273
        },
        "id": "cUZE3Hjn7ZGh",
        "outputId": "cfc24b34-02f6-4974-9b2d-ed7276e0bf5d"
      },
      "outputs": [],
      "source": [
        "agg_df.head()"
      ]
    },
    {
      "cell_type": "code",
      "execution_count": 7,
      "metadata": {
        "id": "Egs3B3jbdIBl"
      },
      "outputs": [],
      "source": [
        "# Split into features and target\n",
        "X = agg_df.drop('Activity', axis=1)\n",
        "y = agg_df['Activity']"
      ]
    },
    {
      "cell_type": "code",
      "execution_count": 8,
      "metadata": {
        "id": "7my_CQXCdIBl"
      },
      "outputs": [],
      "source": [
        "le = LabelEncoder()\n",
        "y = le.fit_transform(y)"
      ]
    },
    {
      "cell_type": "code",
      "execution_count": 9,
      "metadata": {},
      "outputs": [
        {
          "data": {
            "text/plain": [
              "['temp/label_encoder.pkl']"
            ]
          },
          "execution_count": 9,
          "metadata": {},
          "output_type": "execute_result"
        }
      ],
      "source": [
        "dump(le, 'temp/label_encoder.pkl')"
      ]
    },
    {
      "cell_type": "code",
      "execution_count": 10,
      "metadata": {
        "colab": {
          "base_uri": "https://localhost:8080/"
        },
        "id": "1-iGbHZc8yYB",
        "outputId": "a9f18bc8-cbda-49bf-8288-2d7cb4a8dbfa"
      },
      "outputs": [
        {
          "name": "stdout",
          "output_type": "stream",
          "text": [
            "Train: (9201, 88), (9201,)\n",
            "Test: (2301, 88), (2301,)\n"
          ]
        }
      ],
      "source": [
        "X_train, X_test, y_train, y_test = train_test_split(\n",
        "    X, y,\n",
        "    test_size=0.2,\n",
        "    random_state=42,  # for reproducibility\n",
        "    shuffle=True,     # shuffling the data\n",
        "    stratify=y       # maintain class distribution\n",
        ")\n",
        "# Verify shapes\n",
        "print(f\"Train: {X_train.shape}, {y_train.shape}\")\n",
        "print(f\"Test: {X_test.shape}, {y_test.shape}\")"
      ]
    },
    {
      "cell_type": "code",
      "execution_count": 11,
      "metadata": {
        "colab": {
          "base_uri": "https://localhost:8080/"
        },
        "id": "Cog3tjCF07BV",
        "outputId": "e07af755-ba03-4222-c928-af2e7fad4690"
      },
      "outputs": [
        {
          "name": "stdout",
          "output_type": "stream",
          "text": [
            "GPS_Speed_min          0.203845\n",
            "Gyroscope_Z_iqr        0.167713\n",
            "Sound Level_rms        0.120339\n",
            "Accelerometer_Z_min    0.112833\n",
            "Sound Level_median     0.070688\n",
            "Gyroscope_X_iqr        0.049979\n",
            "GPS_Speed_max          0.047926\n",
            "Magnetometer_Y_min     0.032977\n",
            "Magnetometer_Z_min     0.028286\n",
            "Sound Level_max        0.020560\n",
            "dtype: float64\n"
          ]
        }
      ],
      "source": [
        "dt_model = DecisionTreeClassifier(max_depth=8, random_state=42)\n",
        "dt_model.fit(X, y)\n",
        "dt_series = pd.Series(dt_model.feature_importances_, index=X.columns)\n",
        "top_dt_cols = dt_series.sort_values(ascending=False).head(10)\n",
        "print(top_dt_cols)"
      ]
    },
    {
      "cell_type": "code",
      "execution_count": 12,
      "metadata": {},
      "outputs": [
        {
          "data": {
            "text/plain": [
              "Index(['GPS_Speed_min', 'Gyroscope_Z_iqr', 'Sound Level_rms',\n",
              "       'Accelerometer_Z_min', 'Sound Level_median', 'Gyroscope_X_iqr',\n",
              "       'GPS_Speed_max', 'Magnetometer_Y_min', 'Magnetometer_Z_min',\n",
              "       'Sound Level_max'],\n",
              "      dtype='object')"
            ]
          },
          "execution_count": 12,
          "metadata": {},
          "output_type": "execute_result"
        }
      ],
      "source": [
        "top_dt_cols.index"
      ]
    },
    {
      "cell_type": "code",
      "execution_count": 13,
      "metadata": {
        "id": "B3bu-fBP1HNC"
      },
      "outputs": [],
      "source": [
        "X_dt = X[top_dt_cols.index]"
      ]
    },
    {
      "cell_type": "code",
      "execution_count": 14,
      "metadata": {
        "colab": {
          "base_uri": "https://localhost:8080/"
        },
        "id": "myYt9mwHdIBm",
        "outputId": "137d3c52-cef6-4344-f1db-9de82a1d6ebb"
      },
      "outputs": [
        {
          "name": "stdout",
          "output_type": "stream",
          "text": [
            "Train: (9201, 10), (9201,)\n",
            "Test: (2301, 10), (2301,)\n"
          ]
        }
      ],
      "source": [
        "X_train_dt, X_test_dt, y_train_dt, y_test_dt = train_test_split(\n",
        "    X_dt, y,\n",
        "    test_size=0.2,\n",
        "    random_state=42,\n",
        "    shuffle=True,\n",
        "    stratify=y\n",
        ")\n",
        "# Verify shapes\n",
        "print(f\"Train: {X_train_dt.shape}, {y_train_dt.shape}\")\n",
        "print(f\"Test: {X_test_dt.shape}, {y_test_dt.shape}\")"
      ]
    },
    {
      "cell_type": "code",
      "execution_count": 15,
      "metadata": {
        "id": "HXhMKXk0B64f"
      },
      "outputs": [],
      "source": [
        "def plot_confusion_matrix(y_true, y_pred, tag, label_encoder=le):\n",
        "    class_names = label_encoder.inverse_transform(np.unique(y_pred))\n",
        "    cm = confusion_matrix(y_true, y_pred)\n",
        "\n",
        "    # Plot\n",
        "    plt.figure(figsize=(7, 5))\n",
        "    sns.heatmap(cm, annot=True, fmt='d', cmap='Blues',xticklabels=class_names, yticklabels=class_names)\n",
        "    plt.title(f'{tag} Confusion Matrix')\n",
        "    plt.xlabel('Predicted Label')\n",
        "    plt.ylabel('True Label')\n",
        "    plt.tight_layout()\n",
        "    plt.show()"
      ]
    },
    {
      "cell_type": "code",
      "execution_count": 16,
      "metadata": {},
      "outputs": [],
      "source": [
        "def log_model(model,X_test,y_test,tag,label_encoder=le):\n",
        "    print(f\"\\n=== {tag} ===\")\n",
        "    y_pred = model.predict(X_test)\n",
        "    print(f\"Accuracy: {accuracy_score(y_test,y_pred):.4f}\")\n",
        "    cv_scores = cross_val_score(model, X_train, y_train, cv=5, scoring='accuracy')\n",
        "    print(f\"5-fold CV accuracy: {np.mean(cv_scores):.4f} ± {np.std(cv_scores):.4f}\")\n",
        "    print(\"\\nClassification Report:\")\n",
        "    print(classification_report(y_test, y_pred,target_names=label_encoder.classes_))\n",
        "    print(\"\\nConfusion Matrix\")\n",
        "    plot_confusion_matrix(y_test,y_pred,tag)"
      ]
    },
    {
      "cell_type": "code",
      "execution_count": 17,
      "metadata": {},
      "outputs": [],
      "source": [
        "def evaluate_model(model,X_train, y_train,X_test,  y_test,\n",
        "                   tag,\n",
        "                   P_idle=5.0,    # watts, your CPU’s idle power\n",
        "                   P_peak=65.0):   # watts, your CPU’s max power\n",
        "    \"\"\"\n",
        "    Trains `model` on (X_train, y_train), evaluates on (X_test, y_test),\n",
        "    and returns timing, CPU usage, estimated energy, and accuracy.\n",
        "    Energy is estimated as:\n",
        "        P_avg = P_idle + cpu_util * (P_peak - P_idle)\n",
        "        E_Wh  = P_avg * (wall_time_s / 3600)\n",
        "    \"\"\"\n",
        "    proc = psutil.Process()\n",
        "\n",
        "    # ----- TRAINING MEASUREMENT -----\n",
        "    start_wall = time.perf_counter()\n",
        "    cpu_start = proc.cpu_times()           # user+system at start\n",
        "\n",
        "    model.fit(X_train, y_train)\n",
        "\n",
        "    train_wall = time.perf_counter() - start_wall\n",
        "    cpu_end = proc.cpu_times()\n",
        "    train_cpu = ((cpu_end.user + cpu_end.system)\n",
        "                 - (cpu_start.user + cpu_start.system))\n",
        "\n",
        "    # Avoid division by zero\n",
        "    train_util = train_cpu / train_wall if train_wall > 0 else 0.0\n",
        "    P_train = P_idle + train_util * (P_peak - P_idle)\n",
        "    E_train_Wh = P_train * (train_wall / 3600)\n",
        "\n",
        "    # ----- PREDICTION MEASUREMENT -----\n",
        "    start_wall = time.perf_counter()\n",
        "    cpu_start = proc.cpu_times()\n",
        "\n",
        "    y_pred = model.predict(X_test)\n",
        "\n",
        "    test_wall = time.perf_counter() - start_wall\n",
        "    cpu_end = proc.cpu_times()\n",
        "    test_cpu = ((cpu_end.user + cpu_end.system)\n",
        "                - (cpu_start.user + cpu_start.system))\n",
        "\n",
        "    test_util = test_cpu / test_wall if test_wall > 0 else 0.0\n",
        "    P_test = P_idle + test_util * (P_peak - P_idle)\n",
        "    E_test_Wh = P_test * (test_wall / 3600)\n",
        "\n",
        "    # ----- METRICS -----\n",
        "    accuracy = accuracy_score(y_test, y_pred)\n",
        "\n",
        "    results = {\n",
        "        'model_variant': tag.split(':')[0],\n",
        "        'n_features':    X_train.shape[1],\n",
        "        'train_time_s':  train_wall,\n",
        "        'train_cpu_s':   train_cpu,\n",
        "        'train_energy_Wh': E_train_Wh,\n",
        "        'test_time_s':   test_wall,\n",
        "        'test_cpu_s':    test_cpu,\n",
        "        'test_energy_Wh':  E_test_Wh,\n",
        "        'accuracy':      accuracy\n",
        "    }\n",
        "    return results\n"
      ]
    },
    {
      "cell_type": "code",
      "execution_count": 18,
      "metadata": {},
      "outputs": [],
      "source": [
        "def visualize_shap_per_class(model, X_train, label_encoder, top_n=10):\n",
        "    class_labels = label_encoder.classes_\n",
        "\n",
        "    # Use SHAP's unified interface for better compatibility\n",
        "    explainer = shap.TreeExplainer(model)\n",
        "    shap_values = explainer.shap_values(X_train)\n",
        "    \n",
        "    for i, class_name in enumerate(class_labels):\n",
        "        print(f\"Class: {class_name}\")\n",
        "\n",
        "        # SHAP values for this class\n",
        "        class_shap_values = shap_values[:, :, i]  # shape: (samples, features)\n",
        "\n",
        "        # Mean absolute SHAP for each feature\n",
        "        mean_shap = np.abs(class_shap_values).mean(axis=0)\n",
        "\n",
        "        # Top N features\n",
        "        top_indices = np.argsort(mean_shap)[::-1][:top_n]\n",
        "        top_features = X_train.columns[top_indices]\n",
        "        top_values = mean_shap[top_indices]\n",
        "\n",
        "        # Plot\n",
        "        plt.figure(figsize=(8, 5))\n",
        "        plt.barh(range(len(top_features)), top_values[::-1], align='center')\n",
        "        plt.yticks(range(len(top_features)), top_features[::-1])\n",
        "        plt.xlabel(\"mean(|SHAP value|)\")\n",
        "        plt.title(f\"Top {top_n} Features for Class: {class_name}\")\n",
        "        plt.tight_layout()\n",
        "        plt.show()"
      ]
    },
    {
      "cell_type": "code",
      "execution_count": 19,
      "metadata": {
        "id": "zZHMep16__mX"
      },
      "outputs": [],
      "source": [
        "xgb_model = XGBClassifier(\n",
        "    n_estimators=150,\n",
        "    max_depth=8,\n",
        "    learning_rate=0.05,\n",
        "    objective='multi:softmax',\n",
        "    random_state=42,\n",
        "    n_jobs=-1,\n",
        "    eval_metric='mlogloss'\n",
        ")"
      ]
    },
    {
      "cell_type": "code",
      "execution_count": 20,
      "metadata": {
        "id": "7Y31CLI7dIBo"
      },
      "outputs": [],
      "source": [
        "rf_model = RandomForestClassifier(\n",
        "    n_estimators=150,\n",
        "    max_depth=9,\n",
        "    max_features='sqrt',\n",
        "    min_samples_split=2,\n",
        "    max_leaf_nodes=None,\n",
        "    random_state=42,\n",
        "    class_weight='balanced',\n",
        "    n_jobs=-1\n",
        ")"
      ]
    },
    {
      "cell_type": "code",
      "execution_count": 42,
      "metadata": {},
      "outputs": [
        {
          "name": "stdout",
          "output_type": "stream",
          "text": [
            "\n",
            "=== RF_FULL ===\n",
            "Accuracy: 0.9791\n",
            "5-fold CV accuracy: 0.9807 ± 0.0024\n",
            "\n",
            "Classification Report:\n",
            "              precision    recall  f1-score   support\n",
            "\n",
            "        Auto       0.99      0.96      0.97       351\n",
            "        Bike       0.95      0.99      0.97       398\n",
            "         Bus       0.96      0.98      0.97       306\n",
            "         Car       0.99      0.95      0.97       204\n",
            "       Metro       0.97      0.98      0.97       331\n",
            "    Standing       1.00      0.99      1.00       187\n",
            "       Train       1.00      0.99      0.99       352\n",
            "     Walking       1.00      1.00      1.00       172\n",
            "\n",
            "    accuracy                           0.98      2301\n",
            "   macro avg       0.98      0.98      0.98      2301\n",
            "weighted avg       0.98      0.98      0.98      2301\n",
            "\n",
            "\n",
            "Confusion Matrix\n"
          ]
        },
        {
          "data": {
            "image/png": "[encoded data removed]",
            "text/plain": [
              "<Figure size 700x500 with 2 Axes>"
            ]
          },
          "metadata": {},
          "output_type": "display_data"
        }
      ],
      "source": [
        "rf_full = rf_model.fit(X_train, y_train)\n",
        "dump(rf_full, 'temp/RF_FULL.pkl')\n",
        "log_model(rf_full,X_test,y_test,\"RF_FULL\")"
      ]
    },
    {
      "cell_type": "code",
      "execution_count": null,
      "metadata": {},
      "outputs": [],
      "source": [
        "visualize_shap_per_class(rf_full, X_train, le)"
      ]
    },
    {
      "cell_type": "code",
      "execution_count": 43,
      "metadata": {},
      "outputs": [
        {
          "name": "stdout",
          "output_type": "stream",
          "text": [
            "\n",
            "=== RF_DT ===\n",
            "Accuracy: 0.9435\n",
            "5-fold CV accuracy: 0.9807 ± 0.0024\n",
            "\n",
            "Classification Report:\n",
            "              precision    recall  f1-score   support\n",
            "\n",
            "        Auto       0.90      0.91      0.91       351\n",
            "        Bike       0.91      0.91      0.91       398\n",
            "         Bus       0.89      0.92      0.91       306\n",
            "         Car       0.96      0.94      0.95       204\n",
            "       Metro       0.95      0.95      0.95       331\n",
            "    Standing       1.00      0.99      1.00       187\n",
            "       Train       1.00      0.99      0.99       352\n",
            "     Walking       0.99      0.98      0.99       172\n",
            "\n",
            "    accuracy                           0.94      2301\n",
            "   macro avg       0.95      0.95      0.95      2301\n",
            "weighted avg       0.94      0.94      0.94      2301\n",
            "\n",
            "\n",
            "Confusion Matrix\n"
          ]
        },
        {
          "data": {
            "image/png": "[encoded data removed]",
            "text/plain": [
              "<Figure size 700x500 with 2 Axes>"
            ]
          },
          "metadata": {},
          "output_type": "display_data"
        }
      ],
      "source": [
        "rf_dt = rf_model.fit(X_train_dt,y_train_dt)\n",
        "dump(rf_dt,'temp/RF_DT.pkl')\n",
        "log_model(rf_dt,X_test_dt,y_test_dt,\"RF_DT\")"
      ]
    },
    {
      "cell_type": "code",
      "execution_count": null,
      "metadata": {},
      "outputs": [],
      "source": [
        "visualize_shap_per_class(rf_dt, X_train_dt, le)"
      ]
    },
    {
      "cell_type": "code",
      "execution_count": null,
      "metadata": {},
      "outputs": [
        {
          "name": "stdout",
          "output_type": "stream",
          "text": [
            "\n",
            "=== XGB_FULL ===\n",
            "Accuracy: 0.9974\n",
            "5-fold CV accuracy: 0.9941 ± 0.0027\n",
            "\n",
            "Classification Report:\n",
            "              precision    recall  f1-score   support\n",
            "\n",
            "        Auto       1.00      1.00      1.00       351\n",
            "        Bike       1.00      1.00      1.00       398\n",
            "         Bus       1.00      1.00      1.00       306\n",
            "         Car       1.00      0.99      0.99       204\n",
            "       Metro       0.99      0.99      0.99       331\n",
            "    Standing       1.00      1.00      1.00       187\n",
            "       Train       1.00      1.00      1.00       352\n",
            "     Walking       1.00      1.00      1.00       172\n",
            "\n",
            "    accuracy                           1.00      2301\n",
            "   macro avg       1.00      1.00      1.00      2301\n",
            "weighted avg       1.00      1.00      1.00      2301\n",
            "\n",
            "\n",
            "Confusion Matrix\n"
          ]
        },
        {
          "data": {
            "image/png": "[encoded data removed]",
            "text/plain": [
              "<Figure size 700x500 with 2 Axes>"
            ]
          },
          "metadata": {},
          "output_type": "display_data"
        }
      ],
      "source": [
        "xgb_full = xgb_model.fit(X_train, y_train)\n",
        "dump(xgb_full,'temp/XGB_FULL.pkl')\n",
        "log_model(xgb_full,X_test,y_test,\"XGB_FULL\")"
      ]
    },
    {
      "cell_type": "code",
      "execution_count": null,
      "metadata": {},
      "outputs": [],
      "source": [
        "visualize_shap_per_class(xgb_full, X_train, le)"
      ]
    },
    {
      "cell_type": "code",
      "execution_count": 21,
      "metadata": {},
      "outputs": [
        {
          "name": "stdout",
          "output_type": "stream",
          "text": [
            "\n",
            "=== XGB_DT ===\n",
            "Accuracy: 0.9878\n",
            "5-fold CV accuracy: 0.9941 ± 0.0027\n",
            "\n",
            "Classification Report:\n",
            "              precision    recall  f1-score   support\n",
            "\n",
            "        Auto       0.98      0.97      0.98       351\n",
            "        Bike       0.98      0.98      0.98       398\n",
            "         Bus       0.99      0.99      0.99       306\n",
            "         Car       1.00      0.98      0.99       204\n",
            "       Metro       0.97      0.99      0.98       331\n",
            "    Standing       1.00      0.99      1.00       187\n",
            "       Train       1.00      1.00      1.00       352\n",
            "     Walking       1.00      0.99      1.00       172\n",
            "\n",
            "    accuracy                           0.99      2301\n",
            "   macro avg       0.99      0.99      0.99      2301\n",
            "weighted avg       0.99      0.99      0.99      2301\n",
            "\n",
            "\n",
            "Confusion Matrix\n"
          ]
        },
        {
          "data": {
            "image/png": "[encoded data removed]",
            "text/plain": [
              "<Figure size 700x500 with 2 Axes>"
            ]
          },
          "metadata": {},
          "output_type": "display_data"
        }
      ],
      "source": [
        "xgb_dt = xgb_model.fit(X_train_dt,y_train_dt)\n",
        "dump(xgb_dt,'temp/XGB_DT.pkl')\n",
        "log_model(xgb_dt,X_test_dt,y_test_dt,\"XGB_DT\")"
      ]
    },
    {
      "cell_type": "code",
      "execution_count": null,
      "metadata": {},
      "outputs": [],
      "source": [
        "visualize_shap_per_class(xgb_dt, X_train_dt, le)"
      ]
    },
    {
      "cell_type": "code",
      "execution_count": 22,
      "metadata": {
        "id": "2Zb-cmykAEf1"
      },
      "outputs": [],
      "source": [
        "variant = {\n",
        "    'FULL': (X_train, y_train,X_test,y_test),\n",
        "    'DT': (X_train_dt,y_train_dt,X_test_dt,y_test_dt)\n",
        "}\n",
        "models = {\n",
        "    'RF': rf_model,\n",
        "    'XGB': xgb_model\n",
        "}"
      ]
    },
    {
      "cell_type": "code",
      "execution_count": null,
      "metadata": {
        "colab": {
          "base_uri": "https://localhost:8080/"
        },
        "id": "xtkG3sToA_ul",
        "outputId": "b4a02cb0-f82c-495d-c977-092f1fef19b5"
      },
      "outputs": [],
      "source": [
        "model_variants_records = []\n",
        "for model_name, model in models.items():\n",
        "    for variant_name, (Xr,yr,Xt,yt) in variant.items():\n",
        "      model_variants_records.append(evaluate_model(model, Xr, yr, Xt, yt, f\"{model_name}_{variant_name}\"))\n"
      ]
    },
    {
      "cell_type": "code",
      "execution_count": 24,
      "metadata": {},
      "outputs": [
        {
          "data": {
            "text/html": [
              "<div>\n",
              "<style scoped>\n",
              "    .dataframe tbody tr th:only-of-type {\n",
              "        vertical-align: middle;\n",
              "    }\n",
              "\n",
              "    .dataframe tbody tr th {\n",
              "        vertical-align: top;\n",
              "    }\n",
              "\n",
              "    .dataframe thead th {\n",
              "        text-align: right;\n",
              "    }\n",
              "</style>\n",
              "<table border=\"1\" class=\"dataframe\">\n",
              "  <thead>\n",
              "    <tr style=\"text-align: right;\">\n",
              "      <th></th>\n",
              "      <th>model_variant</th>\n",
              "      <th>n_features</th>\n",
              "      <th>train_time_s</th>\n",
              "      <th>train_cpu_s</th>\n",
              "      <th>train_energy_Wh</th>\n",
              "      <th>test_time_s</th>\n",
              "      <th>test_cpu_s</th>\n",
              "      <th>test_energy_Wh</th>\n",
              "      <th>accuracy</th>\n",
              "    </tr>\n",
              "  </thead>\n",
              "  <tbody>\n",
              "    <tr>\n",
              "      <th>0</th>\n",
              "      <td>RF_FULL</td>\n",
              "      <td>88</td>\n",
              "      <td>0.731226</td>\n",
              "      <td>8.484375</td>\n",
              "      <td>0.142422</td>\n",
              "      <td>0.057213</td>\n",
              "      <td>0.109375</td>\n",
              "      <td>0.001902</td>\n",
              "      <td>0.979140</td>\n",
              "    </tr>\n",
              "    <tr>\n",
              "      <th>1</th>\n",
              "      <td>RF_DT</td>\n",
              "      <td>10</td>\n",
              "      <td>0.359820</td>\n",
              "      <td>2.468750</td>\n",
              "      <td>0.041646</td>\n",
              "      <td>0.041132</td>\n",
              "      <td>0.078125</td>\n",
              "      <td>0.001359</td>\n",
              "      <td>0.943503</td>\n",
              "    </tr>\n",
              "    <tr>\n",
              "      <th>2</th>\n",
              "      <td>XGB_FULL</td>\n",
              "      <td>88</td>\n",
              "      <td>4.820460</td>\n",
              "      <td>54.015625</td>\n",
              "      <td>0.906955</td>\n",
              "      <td>0.010152</td>\n",
              "      <td>0.171875</td>\n",
              "      <td>0.002879</td>\n",
              "      <td>0.997392</td>\n",
              "    </tr>\n",
              "    <tr>\n",
              "      <th>3</th>\n",
              "      <td>XGB_DT</td>\n",
              "      <td>10</td>\n",
              "      <td>1.398370</td>\n",
              "      <td>15.140625</td>\n",
              "      <td>0.254286</td>\n",
              "      <td>0.010706</td>\n",
              "      <td>0.171875</td>\n",
              "      <td>0.002879</td>\n",
              "      <td>0.987831</td>\n",
              "    </tr>\n",
              "  </tbody>\n",
              "</table>\n",
              "</div>"
            ],
            "text/plain": [
              "  model_variant  n_features  train_time_s  train_cpu_s  train_energy_Wh  \\\n",
              "0       RF_FULL          88      0.731226     8.484375         0.142422   \n",
              "1         RF_DT          10      0.359820     2.468750         0.041646   \n",
              "2      XGB_FULL          88      4.820460    54.015625         0.906955   \n",
              "3        XGB_DT          10      1.398370    15.140625         0.254286   \n",
              "\n",
              "   test_time_s  test_cpu_s  test_energy_Wh  accuracy  \n",
              "0     0.057213    0.109375        0.001902  0.979140  \n",
              "1     0.041132    0.078125        0.001359  0.943503  \n",
              "2     0.010152    0.171875        0.002879  0.997392  \n",
              "3     0.010706    0.171875        0.002879  0.987831  "
            ]
          },
          "execution_count": 24,
          "metadata": {},
          "output_type": "execute_result"
        }
      ],
      "source": [
        "pd.DataFrame(model_variants_records)"
      ]
    },
    {
      "cell_type": "code",
      "execution_count": null,
      "metadata": {},
      "outputs": [],
      "source": []
    },
    {
      "cell_type": "markdown",
      "metadata": {},
      "source": [
        "## TESTING"
      ]
    },
    {
      "cell_type": "code",
      "execution_count": null,
      "metadata": {},
      "outputs": [],
      "source": [
        "RF_FULL = load('temp/RF_FULL.pkl')\n",
        "RF_DT = load('temp/RF_DT.pkl')\n",
        "XGB_FULL = load('temp/XGB_FULL.pkl')\n",
        "XGB_DT = load('temp/XGB_DT.pkl')\n",
        "label_encoder = load('temp/label_encoder.pkl')"
      ]
    },
    {
      "cell_type": "code",
      "execution_count": null,
      "metadata": {},
      "outputs": [],
      "source": [
        "predict_model = {\n",
        "    'RF_FULL' : RF_FULL,\n",
        "    'RF_DT' : RF_DT,\n",
        "    'XGB_FULL' : XGB_FULL,\n",
        "    'XGB_DT' : XGB_DT\n",
        "}"
      ]
    },
    {
      "cell_type": "code",
      "execution_count": null,
      "metadata": {
        "id": "83CpsnZv4J-L"
      },
      "outputs": [],
      "source": [
        "test = pd.read_csv('../datasets/filtered_activity_data.csv')\n",
        "test = test[sensor_features]"
      ]
    },
    {
      "cell_type": "code",
      "execution_count": null,
      "metadata": {
        "colab": {
          "base_uri": "https://localhost:8080/",
          "height": 209
        },
        "id": "NEZ-gjyZDmz9",
        "outputId": "3ac3b853-2239-42c6-c74a-d069a5e4c9f6"
      },
      "outputs": [],
      "source": [
        "test.value_counts('Activity')"
      ]
    },
    {
      "cell_type": "code",
      "execution_count": null,
      "metadata": {
        "id": "C7b44hIX46rI"
      },
      "outputs": [],
      "source": [
        "test_df = extract_features(test)"
      ]
    },
    {
      "cell_type": "code",
      "execution_count": null,
      "metadata": {
        "id": "lEtHvPwX5L2L"
      },
      "outputs": [],
      "source": [
        "test_X = test_df.drop('Activity', axis=1)\n",
        "test_y = test_df['Activity']\n",
        "testX_dt = test_X[top_dt_cols.index]\n",
        "test_y = label_encoder.transform(test_y)"
      ]
    },
    {
      "cell_type": "code",
      "execution_count": null,
      "metadata": {},
      "outputs": [],
      "source": [
        "result = []\n",
        "for name,model in predict_model.items():\n",
        "    if 'DT' in name:\n",
        "        pred_y = model.predict(testX_dt)\n",
        "    else:   \n",
        "        pred_y = model.predict(test_X)\n",
        "    # plot_confusion_matrix(test_y, pred_y, f\"{name}_Test\", label_encoder)\n",
        "    result.append([name,accuracy_score(test_y, pred_y)])"
      ]
    },
    {
      "cell_type": "code",
      "execution_count": null,
      "metadata": {},
      "outputs": [],
      "source": [
        "pd.DataFrame(result)"
      ]
    },
    {
      "cell_type": "code",
      "execution_count": null,
      "metadata": {
        "colab": {
          "base_uri": "https://localhost:8080/",
          "height": 524
        },
        "id": "NfwRiM-_PHCb",
        "outputId": "018cefe6-0505-4bb3-caf8-0165982649f3"
      },
      "outputs": [],
      "source": [
        "pred_y = RF_FULL.predict(test_X)\n",
        "print(accuracy_score(test_y, pred_y))\n",
        "# plot_confusion_matrix(test_y, pred_y, \"RF (Full) - Test\", label_encoder)"
      ]
    },
    {
      "cell_type": "code",
      "execution_count": null,
      "metadata": {
        "colab": {
          "base_uri": "https://localhost:8080/",
          "height": 524
        },
        "id": "n0nh0aAd6Ls3",
        "outputId": "2d8f1933-263b-4e94-f51b-80c6c503a7bf"
      },
      "outputs": [],
      "source": [
        "pred_y = RF_DT.predict(testX_dt)\n",
        "print(accuracy_score(test_y, pred_y))\n",
        "# plot_confusion_matrix(test_y, pred_y, \"RF (DT) - Test\", label_encoder)"
      ]
    },
    {
      "cell_type": "code",
      "execution_count": null,
      "metadata": {
        "colab": {
          "base_uri": "https://localhost:8080/",
          "height": 524
        },
        "id": "5RkjAnKnP0h7",
        "outputId": "5bca4222-f34d-40cc-a794-ee39ae0c3d5c"
      },
      "outputs": [],
      "source": [
        "pred_y = XGB_FULL.predict(test_X)\n",
        "print(accuracy_score(test_y, pred_y))\n",
        "# plot_confusion_matrix(test_y, pred_y, \"XGB (FULL) - Test\", label_encoder)"
      ]
    },
    {
      "cell_type": "code",
      "execution_count": null,
      "metadata": {
        "colab": {
          "base_uri": "https://localhost:8080/",
          "height": 524
        },
        "id": "OiVAjoZMP1eY",
        "outputId": "2ed1cdb9-dcc9-48f6-ded9-fc4fea7ca8c8"
      },
      "outputs": [],
      "source": [
        "pred_y = XGB_DT.predict(testX_dt)\n",
        "print(accuracy_score(test_y, pred_y))\n",
        "# plot_confusion_matrix(test_y, pred_y, \"XGB (DT) - Test\", label_encoder)"
      ]
    },
    {
      "cell_type": "markdown",
      "metadata": {
        "id": "JEwl5UZAEZNp"
      },
      "source": [
        "## Based on raw data"
      ]
    },
    {
      "cell_type": "code",
      "execution_count": null,
      "metadata": {
        "id": "HULKSppYfQf6"
      },
      "outputs": [],
      "source": [
        "X = df.drop('Activity', axis=1)\n",
        "y = df['Activity']"
      ]
    },
    {
      "cell_type": "code",
      "execution_count": null,
      "metadata": {
        "id": "YTUblk_ufZy9"
      },
      "outputs": [],
      "source": [
        "le = LabelEncoder()\n",
        "y = le.fit_transform(y)"
      ]
    },
    {
      "cell_type": "code",
      "execution_count": null,
      "metadata": {
        "colab": {
          "base_uri": "https://localhost:8080/"
        },
        "id": "_pIVZaZZFnkg",
        "outputId": "069a9aae-1a16-4a71-9390-83da1eaf6710"
      },
      "outputs": [],
      "source": [
        "X_train, X_test, y_train, y_test = train_test_split(\n",
        "    X, y,\n",
        "    test_size=0.2,\n",
        "    random_state=42,  # for reproducibility\n",
        "    shuffle=True,     # shuffling the data\n",
        "    stratify=y       # maintain class distribution\n",
        ")\n",
        "# Verify shapes\n",
        "print(f\"Train: {X_train.shape}, {y_train.shape}\")\n",
        "print(f\"Test: {X_test.shape}, {y_test.shape}\")     # maintain class distribution"
      ]
    },
    {
      "cell_type": "code",
      "execution_count": null,
      "metadata": {
        "colab": {
          "base_uri": "https://localhost:8080/",
          "height": 1000
        },
        "id": "0TDetDzyLxKn",
        "outputId": "70f4e89b-6fab-4d73-8317-9b2a095e3285"
      },
      "outputs": [],
      "source": [
        "def evaluate_model(model, X, y, title, label_encoder, do_cv=True):\n",
        "    print(f\"\\n--- {title} Evaluation ---\")\n",
        "    if do_cv:\n",
        "        cv_scores = cross_val_score(model, X, y, cv=5)\n",
        "        print(f\"Cross-Validation Accuracy: {cv_scores.mean():.4f} ± {cv_scores.std():.4f}\")\n",
        "    y_pred = model.predict(X)\n",
        "    print(\"Accuracy Score:\", accuracy_score(y, y_pred))\n",
        "    print(\"\\nClassification Report:\")\n",
        "    print(classification_report(y, y_pred, target_names=label_encoder.classes_))\n",
        "\n",
        "# Define confusion matrix plotting function\n",
        "def plot_confusion_matrix(y_true, y_pred, title, label_encoder):\n",
        "    cm = confusion_matrix(y_true, y_pred)\n",
        "    plt.figure(figsize=(10, 6))\n",
        "    sns.heatmap(cm, annot=True, fmt='d', cmap='Blues',\n",
        "                xticklabels=label_encoder.classes_,\n",
        "                yticklabels=label_encoder.classes_)\n",
        "    plt.title(f\"Confusion Matrix - {title}\")\n",
        "    plt.xlabel(\"Predicted Label\")\n",
        "    plt.ylabel(\"True Label\")\n",
        "    plt.tight_layout()\n",
        "    plt.show()\n",
        "\n",
        "# Train Random Forest\n",
        "rf = RandomForestClassifier(n_estimators=100, max_depth=5, random_state=42)\n",
        "rf.fit(X_train, y_train)\n",
        "\n",
        "# Evaluate on training set (with CV)\n",
        "evaluate_model(rf, X_train, y_train, \"Training (Random Forest)\", le, do_cv=True)\n",
        "\n",
        "# Evaluate on test set (without CV)\n",
        "evaluate_model(rf, X_test, y_test, \"Test (Random Forest)\", le, do_cv=False)\n",
        "\n",
        "# Plot confusion matrix\n",
        "rf_test_pred = rf.predict(X_test)\n",
        "plot_confusion_matrix(y_test, rf_test_pred, \"Random Forest\", le)"
      ]
    },
    {
      "cell_type": "code",
      "execution_count": null,
      "metadata": {
        "colab": {
          "base_uri": "https://localhost:8080/",
          "height": 1000
        },
        "id": "jEq6ZLpALvlQ",
        "outputId": "28a40fa2-51c2-4248-f4b9-a7d4f04fa7da"
      },
      "outputs": [],
      "source": [
        "\n",
        "\n",
        "# Initialize XGBoost Classifier\n",
        "xgb = XGBClassifier(\n",
        "    learning_rate=0.05,\n",
        "    max_depth=2,\n",
        "    n_estimators=100,\n",
        "    subsample=0.4,\n",
        "    use_label_encoder=False,\n",
        "    eval_metric='mlogloss',\n",
        "    random_state=42\n",
        ")\n",
        "\n",
        "# Train model\n",
        "xgb.fit(X_train, y_train)\n",
        "\n",
        "# Evaluate on training set\n",
        "evaluate_model(xgb, X_train, y_train, \"Training (XGBoost)\", le, do_cv=True)\n",
        "\n",
        "# Evaluate on test set\n",
        "evaluate_model(xgb, X_test, y_test, \"Test (XGBoost)\", le, do_cv=False)\n",
        "\n",
        "# Confusion matrix\n",
        "xgb_test_pred = xgb.predict(X_test)\n",
        "plot_confusion_matrix(y_test, xgb_test_pred, \"XGBoost\", le)\n"
      ]
    },
    {
      "cell_type": "code",
      "execution_count": null,
      "metadata": {
        "id": "z5pJsjTPNDYm"
      },
      "outputs": [],
      "source": []
    }
  ],
  "metadata": {
    "colab": {
      "provenance": []
    },
    "kernelspec": {
      "display_name": ".venv (3.13.2)",
      "language": "python",
      "name": "python3"
    },
    "language_info": {
      "codemirror_mode": {
        "name": "ipython",
        "version": 3
      },
      "file_extension": ".py",
      "mimetype": "text/x-python",
      "name": "python",
      "nbconvert_exporter": "python",
      "pygments_lexer": "ipython3",
      "version": "3.13.2"
    }
  },
  "nbformat": 4,
  "nbformat_minor": 0
}
